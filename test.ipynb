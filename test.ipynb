{
 "cells": [
  {
   "cell_type": "code",
   "execution_count": 1,
   "id": "9196bbb1-a1e5-42f2-a522-bd341fbf187b",
   "metadata": {},
   "outputs": [],
   "source": [
    "from cogworks_data.language import get_data_path\n",
    "from pathlib import Path\n",
    "import numpy as np\n",
    "from collections import defaultdict\n",
    "from caption_embedding import calculate_IDF, create_embedding\n",
    "from coco_data import Coco_Data\n",
    "import pickle\n",
    "import json"
   ]
  },
  {
   "cell_type": "code",
   "execution_count": 2,
   "id": "ae8c154e-51c9-4ec1-8e94-9b88f5a07f54",
   "metadata": {},
   "outputs": [
    {
     "name": "stderr",
     "output_type": "stream",
     "text": [
      "Downloading file 'captions_train2014.json' from 'https://github.com/rsokl/cog_data/releases/download/language-files/captions_train2014.json' to 'C:\\Users\\gwyhe\\AppData\\Local\\cog_data\\cog_data\\Cache'.\n",
      "Downloading file 'resnet18_features.pkl' from 'https://github.com/rsokl/cog_data/releases/download/language-files/resnet18_features.pkl' to 'C:\\Users\\gwyhe\\AppData\\Local\\cog_data\\cog_data\\Cache'.\n"
     ]
    }
   ],
   "source": [
    "filename = get_data_path(\"captions_train2014.json\")\n",
    "with Path(filename).open() as f:\n",
    "    coco_data = json.load(f)\n",
    "        \n",
    "with Path(get_data_path('resnet18_features.pkl')).open('rb') as f:\n",
    "    resnet18_features = pickle.load(f)\n",
    "\n",
    "coco = Coco_Data(coco_data, resnet18_features)"
   ]
  },
  {
   "cell_type": "code",
   "execution_count": 3,
   "id": "8284f3a7-fbe8-4578-9820-f3f9cd1d2273",
   "metadata": {},
   "outputs": [
    {
     "ename": "TypeError",
     "evalue": "object of type 'int' has no len()",
     "output_type": "error",
     "traceback": [
      "\u001b[1;31m---------------------------------------------------------------------------\u001b[0m",
      "\u001b[1;31mTypeError\u001b[0m                                 Traceback (most recent call last)",
      "Cell \u001b[1;32mIn[3], line 1\u001b[0m\n\u001b[1;32m----> 1\u001b[0m \u001b[43mcoco\u001b[49m\u001b[38;5;241;43m.\u001b[39;49m\u001b[43mimage_id_to_embedding\u001b[49m\u001b[43m(\u001b[49m\u001b[38;5;241;43m318556\u001b[39;49m\u001b[43m)\u001b[49m\n",
      "File \u001b[1;32m~\\GitGood-NLP_Capstone\\coco_data.py:66\u001b[0m, in \u001b[0;36mimage_id_to_embedding\u001b[1;34m(self, image_id)\u001b[0m\n\u001b[0;32m     63\u001b[0m         \u001b[38;5;28mself\u001b[39m\u001b[38;5;241m.\u001b[39mcaption_id_to_embedding \u001b[38;5;241m=\u001b[39m {cap_id : embedding \u001b[38;5;28;01mfor\u001b[39;00m cap_id \u001b[38;5;129;01min\u001b[39;00m caption_ids}\n\u001b[0;32m     64\u001b[0m     \u001b[38;5;28;01mreturn\u001b[39;00m idf\n\u001b[1;32m---> 66\u001b[0m \u001b[38;5;28;01mdef\u001b[39;00m \u001b[38;5;21mimage_id_to_embedding\u001b[39m(\u001b[38;5;28mself\u001b[39m, image_id):\n\u001b[0;32m     67\u001b[0m     vectors \u001b[38;5;241m=\u001b[39m np\u001b[38;5;241m.\u001b[39mzeros((\u001b[38;5;28mlen\u001b[39m(image_id), \u001b[38;5;241m512\u001b[39m))\n\u001b[0;32m     68\u001b[0m     \u001b[38;5;28;01mfor\u001b[39;00m n, \u001b[38;5;28mid\u001b[39m \u001b[38;5;129;01min\u001b[39;00m \u001b[38;5;28menumerate\u001b[39m(image_id):\n",
      "\u001b[1;31mTypeError\u001b[0m: object of type 'int' has no len()"
     ]
    }
   ],
   "source": [
    "coco.image_id_to_embedding(318556)"
   ]
  },
  {
   "cell_type": "code",
   "execution_count": null,
   "id": "9b6726b1-8b32-42a3-8743-1867405491fb",
   "metadata": {},
   "outputs": [],
   "source": []
  }
 ],
 "metadata": {
  "kernelspec": {
   "display_name": "week3 (python 3.8)",
   "language": "python",
   "name": "week3"
  },
  "language_info": {
   "codemirror_mode": {
    "name": "ipython",
    "version": 3
   },
   "file_extension": ".py",
   "mimetype": "text/x-python",
   "name": "python",
   "nbconvert_exporter": "python",
   "pygments_lexer": "ipython3",
   "version": "3.8.20"
  }
 },
 "nbformat": 4,
 "nbformat_minor": 5
}
